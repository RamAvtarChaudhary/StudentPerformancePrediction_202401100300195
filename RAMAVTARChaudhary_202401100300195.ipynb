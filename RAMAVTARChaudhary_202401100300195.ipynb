{
  "nbformat": 4,
  "nbformat_minor": 0,
  "metadata": {
    "colab": {
      "provenance": []
    },
    "kernelspec": {
      "name": "python3",
      "display_name": "Python 3"
    },
    "language_info": {
      "name": "python"
    }
  },
  "cells": [
    {
      "cell_type": "code",
      "execution_count": null,
      "metadata": {
        "colab": {
          "base_uri": "https://localhost:8080/"
        },
        "id": "v3BaxI0Qgsw4",
        "outputId": "1a46dd01-83e7-4827-a60e-1066d0aa2c62"
      },
      "outputs": [
        {
          "output_type": "stream",
          "name": "stdout",
          "text": [
            "Sample Data:\n",
            "   study_time  past_grades  absences  performance\n",
            "0           2           70         3            1\n",
            "1           3           80         1            1\n",
            "2           1           50         5            0\n",
            "3           5           90         0            1\n",
            "4           4           85         2            1\n",
            "5           2           60         6            0\n",
            "6           3           75         4            1\n",
            "7           6           95         0            1\n",
            "8           5           88         1            1\n",
            "9           1           55         7            0\n",
            "Accuracy: 100.00%\n",
            "Predictions:\n",
            "   Actual  Predicted\n",
            "0       1          1\n",
            "1       1          1\n"
          ]
        }
      ],
      "source": [
        "import pandas as pd\n",
        "from sklearn.model_selection import train_test_split\n",
        "from sklearn.tree import DecisionTreeClassifier\n",
        "from sklearn.metrics import accuracy_score\n",
        "\n",
        "# Sample data\n",
        "data = {\n",
        "    'study_time': [2, 3, 1, 5, 4, 2, 3, 6, 5, 1],\n",
        "    'past_grades': [70, 80, 50, 90, 85, 60, 75, 95, 88, 55],\n",
        "    'absences': [3, 1, 5, 0, 2, 6, 4, 0, 1, 7],\n",
        "    'performance': [1, 1, 0, 1, 1, 0, 1, 1, 1, 0]  # 1 = Good, 0 = Bad\n",
        "}\n",
        "\n",
        "# Create DataFrame\n",
        "df = pd.DataFrame(data)\n",
        "print(\"Sample Data:\")\n",
        "print(df)\n",
        "\n",
        "# Split features and target\n",
        "X = df[['study_time', 'past_grades', 'absences']]\n",
        "y = df['performance']\n",
        "\n",
        "# Split into training and testing sets\n",
        "X_train, X_test, y_train, y_test = train_test_split(X, y, test_size=0.2, random_state=42)\n",
        "\n",
        "# Train model\n",
        "model = DecisionTreeClassifier()\n",
        "model.fit(X_train, y_train)\n",
        "\n",
        "# Predict\n",
        "y_pred = model.predict(X_test)\n",
        "\n",
        "# Evaluate\n",
        "accuracy = accuracy_score(y_test, y_pred)\n",
        "print(f'Accuracy: {accuracy * 100:.2f}%')\n",
        "\n",
        "# Display predictions\n",
        "print(\"Predictions:\")\n",
        "results = pd.DataFrame({'Actual': y_test.values, 'Predicted': y_pred})\n",
        "print(results)\n"
      ]
    }
  ]
}